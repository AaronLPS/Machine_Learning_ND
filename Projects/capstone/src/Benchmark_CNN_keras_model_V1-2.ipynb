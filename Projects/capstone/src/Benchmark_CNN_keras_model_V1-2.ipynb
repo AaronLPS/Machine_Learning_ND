{
 "cells": [
  {
   "cell_type": "markdown",
   "metadata": {},
   "source": [
    "# Benchmark CNN Keras model"
   ]
  },
  {
   "cell_type": "code",
   "execution_count": null,
   "metadata": {},
   "outputs": [
    {
     "data": {
      "text/html": [
       "<div>\n",
       "<style scoped>\n",
       "    .dataframe tbody tr th:only-of-type {\n",
       "        vertical-align: middle;\n",
       "    }\n",
       "\n",
       "    .dataframe tbody tr th {\n",
       "        vertical-align: top;\n",
       "    }\n",
       "\n",
       "    .dataframe thead th {\n",
       "        text-align: right;\n",
       "    }\n",
       "</style>\n",
       "<table border=\"1\" class=\"dataframe\">\n",
       "  <thead>\n",
       "    <tr style=\"text-align: right;\">\n",
       "      <th></th>\n",
       "      <th>file</th>\n",
       "      <th>species</th>\n",
       "    </tr>\n",
       "  </thead>\n",
       "  <tbody>\n",
       "    <tr>\n",
       "      <th>0</th>\n",
       "      <td>0021e90e4.png</td>\n",
       "      <td>Sugar beet</td>\n",
       "    </tr>\n",
       "    <tr>\n",
       "      <th>1</th>\n",
       "      <td>003d61042.png</td>\n",
       "      <td>Sugar beet</td>\n",
       "    </tr>\n",
       "  </tbody>\n",
       "</table>\n",
       "</div>"
      ],
      "text/plain": [
       "            file     species\n",
       "0  0021e90e4.png  Sugar beet\n",
       "1  003d61042.png  Sugar beet"
      ]
     },
     "execution_count": 7,
     "metadata": {},
     "output_type": "execute_result"
    }
   ],
   "source": [
    "import os\n",
    "import pandas as pd\n",
    "import numpy as np\n",
    "from keras.preprocessing.image import ImageDataGenerator\n",
    "import random\n",
    "import shutil\n",
    "\n",
    "\n",
    "data_dir = '../data/'\n",
    "train_dir = os.path.join(data_dir, 'train')\n",
    "test_dir = os.path.join(data_dir, 'test')\n",
    "sample_submission = pd.read_csv(os.path.join(data_dir,'sample_submission.csv'))\n",
    "sample_submission.head(2)"
   ]
  },
  {
   "cell_type": "code",
   "execution_count": 8,
   "metadata": {},
   "outputs": [],
   "source": [
    "CATEGORIES = ['Black-grass', 'Charlock', 'Cleavers', 'Common Chickweed', 'Common wheat', 'Fat Hen', 'Loose Silky-bent',\n",
    "              'Maize', 'Scentless Mayweed', 'Shepherds Purse', 'Small-flowered Cranesbill', 'Sugar beet']\n",
    "NUM_CATEGORIES = len(CATEGORIES)\n",
    "\n"
   ]
  },
  {
   "cell_type": "code",
   "execution_count": 9,
   "metadata": {},
   "outputs": [
    {
     "name": "stdout",
     "output_type": "stream",
     "text": [
      "Black-grass 169 images\n",
      "Charlock 250 images\n",
      "Cleavers 184 images\n",
      "Common Chickweed 392 images\n",
      "Common wheat 142 images\n",
      "Fat Hen 304 images\n",
      "Loose Silky-bent 420 images\n",
      "Maize 142 images\n",
      "Scentless Mayweed 331 images\n",
      "Shepherds Purse 148 images\n",
      "Small-flowered Cranesbill 318 images\n",
      "Sugar beet 247 images\n"
     ]
    }
   ],
   "source": [
    "for category in CATEGORIES:\n",
    "    print('{} {} images'.format(category, len(os.listdir(os.path.join(train_dir, category)))))"
   ]
  },
  {
   "cell_type": "code",
   "execution_count": 10,
   "metadata": {},
   "outputs": [
    {
     "data": {
      "text/html": [
       "<div>\n",
       "<style scoped>\n",
       "    .dataframe tbody tr th:only-of-type {\n",
       "        vertical-align: middle;\n",
       "    }\n",
       "\n",
       "    .dataframe tbody tr th {\n",
       "        vertical-align: top;\n",
       "    }\n",
       "\n",
       "    .dataframe thead th {\n",
       "        text-align: right;\n",
       "    }\n",
       "</style>\n",
       "<table border=\"1\" class=\"dataframe\">\n",
       "  <thead>\n",
       "    <tr style=\"text-align: right;\">\n",
       "      <th></th>\n",
       "      <th>fileName</th>\n",
       "      <th>categoryID</th>\n",
       "      <th>category</th>\n",
       "    </tr>\n",
       "  </thead>\n",
       "  <tbody>\n",
       "    <tr>\n",
       "      <th>0</th>\n",
       "      <td>train/Black-grass/5a1295fb4.png</td>\n",
       "      <td>0</td>\n",
       "      <td>Black-grass</td>\n",
       "    </tr>\n",
       "    <tr>\n",
       "      <th>1</th>\n",
       "      <td>train/Black-grass/d8afd58f3.png</td>\n",
       "      <td>0</td>\n",
       "      <td>Black-grass</td>\n",
       "    </tr>\n",
       "  </tbody>\n",
       "</table>\n",
       "</div>"
      ],
      "text/plain": [
       "                          fileName  categoryID     category\n",
       "0  train/Black-grass/5a1295fb4.png           0  Black-grass\n",
       "1  train/Black-grass/d8afd58f3.png           0  Black-grass"
      ]
     },
     "execution_count": 10,
     "metadata": {},
     "output_type": "execute_result"
    }
   ],
   "source": [
    "trainData = []\n",
    "for categoryID,category in enumerate(CATEGORIES):\n",
    "    for file in os.listdir(os.path.join(train_dir,category)):\n",
    "        trainData.append(['train/{}/{}'.format(category, file), categoryID, category])\n",
    "trainData = pd.DataFrame(trainData, columns=['fileName', 'categoryID', 'category'])\n",
    "trainData.head(2)\n"
   ]
  },
  {
   "cell_type": "code",
   "execution_count": 11,
   "metadata": {},
   "outputs": [
    {
     "data": {
      "text/plain": [
       "(3047, 3)"
      ]
     },
     "execution_count": 11,
     "metadata": {},
     "output_type": "execute_result"
    }
   ],
   "source": [
    "trainData.shape"
   ]
  },
  {
   "cell_type": "code",
   "execution_count": 13,
   "metadata": {},
   "outputs": [
    {
     "ename": "FileExistsError",
     "evalue": "[Errno 17] File exists: '../data/val/'",
     "traceback": [
      "\u001b[0;31m---------------------------------------------------------------------------\u001b[0m",
      "\u001b[0;31mFileExistsError\u001b[0m                           Traceback (most recent call last)",
      "\u001b[0;32m<ipython-input-13-b29b9d430bff>\u001b[0m in \u001b[0;36m<module>\u001b[0;34m()\u001b[0m\n\u001b[1;32m      1\u001b[0m \u001b[0;31m#  split validation data from  train data\u001b[0m\u001b[0;34m\u001b[0m\u001b[0;34m\u001b[0m\u001b[0m\n\u001b[0;32m----> 2\u001b[0;31m \u001b[0mos\u001b[0m\u001b[0;34m.\u001b[0m\u001b[0mmkdir\u001b[0m\u001b[0;34m(\u001b[0m\u001b[0;34m'../data/val/'\u001b[0m\u001b[0;34m)\u001b[0m\u001b[0;34m\u001b[0m\u001b[0m\n\u001b[0m\u001b[1;32m      3\u001b[0m \u001b[0;32mfor\u001b[0m \u001b[0mcategory\u001b[0m \u001b[0;32min\u001b[0m \u001b[0mCATEGORIES\u001b[0m\u001b[0;34m:\u001b[0m\u001b[0;34m\u001b[0m\u001b[0m\n\u001b[1;32m      4\u001b[0m     \u001b[0mos\u001b[0m\u001b[0;34m.\u001b[0m\u001b[0mmkdir\u001b[0m\u001b[0;34m(\u001b[0m\u001b[0;34m'../data/val/'\u001b[0m \u001b[0;34m+\u001b[0m \u001b[0mcategory\u001b[0m\u001b[0;34m)\u001b[0m\u001b[0;34m\u001b[0m\u001b[0m\n\u001b[1;32m      5\u001b[0m     \u001b[0mname\u001b[0m \u001b[0;34m=\u001b[0m \u001b[0mos\u001b[0m\u001b[0;34m.\u001b[0m\u001b[0mlistdir\u001b[0m\u001b[0;34m(\u001b[0m\u001b[0;34m'../data/train/'\u001b[0m \u001b[0;34m+\u001b[0m \u001b[0mcategory\u001b[0m\u001b[0;34m)\u001b[0m\u001b[0;34m\u001b[0m\u001b[0m\n",
      "\u001b[0;31mFileExistsError\u001b[0m: [Errno 17] File exists: '../data/val/'"
     ],
     "output_type": "error"
    }
   ],
   "source": [
    "#  split validation data from  train data\n",
    "os.mkdir('../data/val/')\n",
    "for category in CATEGORIES:\n",
    "    os.mkdir('../data/val/' + category)\n",
    "    name = os.listdir('../data/train/' + category)\n",
    "    random.shuffle(name) \n",
    "    toVal = name[:int(len(name) * 0.2)] # split 20%\n",
    "    for file in toVal:\n",
    "        shutil.move(os.path.join('../data/train/', category, file), os.path.join('../data/val/', category))    \n",
    "        # shutil - High level file operations        \n",
    "        # https://docs.python.org/2/library/shutil.html"
   ]
  },
  {
   "cell_type": "code",
   "execution_count": 14,
   "metadata": {},
   "outputs": [
    {
     "name": "stdout",
     "output_type": "stream",
     "text": [
      "Found 3046 images belonging to 12 classes.\n",
      "Found 756 images belonging to 12 classes.\n"
     ]
    }
   ],
   "source": [
    "# https://www.kaggle.com/dingkun/xception-model-training-pipeline-lb-0-9798\n",
    "\n",
    "\n",
    "trainDataGenerator = ImageDataGenerator(rescale=1. / 255,  # Normalization\n",
    "                                        rotation_range=50,\n",
    "                                        width_shift_range=0.2,  # fraction of total width\n",
    "                                        height_shift_range=0.2,\n",
    "                                        shear_range=0.2,\n",
    "                                        zoom_range=0.2,\n",
    "                                        horizontal_flip=True,\n",
    "                                        vertical_flip=True)\n",
    "\n",
    "# flow_from_directory(directory): Takes the path to a directory, \n",
    "# and generates batches of augmented/normalized data. Yields batches indefinitely, \n",
    "# in an infinite loop.\n",
    "trainGenerated = trainDataGenerator.flow_from_directory('../data/train',\n",
    "                                                        # The dimensions to which all images found will be resized.\n",
    "                                                        target_size=(48, 48),\n",
    "                                                        batch_size=16,\n",
    "                                                        class_mode='categorical',\n",
    "                                                        shuffle=True\n",
    "                                                        )\n",
    "\n",
    "valDataGenerator = ImageDataGenerator(rescale=1. / 255)\n",
    "\n",
    "valGenerated = valDataGenerator.flow_from_directory('../data/val',\n",
    "                                                    target_size=(48, 48),\n",
    "                                                    batch_size=16,\n",
    "                                                    class_mode='categorical',\n",
    "                                                    shuffle=True\n",
    "                                                    )\n",
    "\n"
   ]
  },
  {
   "cell_type": "code",
   "execution_count": 15,
   "metadata": {},
   "outputs": [],
   "source": [
    "from keras.callbacks import TensorBoard\n",
    "\n",
    "tensorboard = TensorBoard('../logs')"
   ]
  },
  {
   "cell_type": "code",
   "execution_count": 16,
   "metadata": {},
   "outputs": [],
   "source": [
    "from keras.layers import Dropout, Input, Dense, Activation,GlobalMaxPooling2D, BatchNormalization, Flatten, Conv2D, MaxPooling2D\n",
    "from keras.models import Model, load_model\n",
    "from keras.optimizers import Adam\n",
    "from keras.models import Sequential\n",
    "\n"
   ]
  },
  {
   "cell_type": "code",
   "execution_count": 17,
   "metadata": {},
   "outputs": [
    {
     "name": "stdout",
     "output_type": "stream",
     "text": [
      "_________________________________________________________________\n",
      "Layer (type)                 Output Shape              Param #   \n",
      "=================================================================\n",
      "conv2d_1 (Conv2D)            (None, 46, 46, 16)        448       \n",
      "_________________________________________________________________\n",
      "batch_normalization_1 (Batch (None, 46, 46, 16)        64        \n",
      "_________________________________________________________________\n",
      "activation_1 (Activation)    (None, 46, 46, 16)        0         \n",
      "_________________________________________________________________\n",
      "conv2d_2 (Conv2D)            (None, 44, 44, 16)        2320      \n",
      "_________________________________________________________________\n",
      "batch_normalization_2 (Batch (None, 44, 44, 16)        64        \n",
      "_________________________________________________________________\n",
      "activation_2 (Activation)    (None, 44, 44, 16)        0         \n",
      "_________________________________________________________________\n",
      "max_pooling2d_1 (MaxPooling2 (None, 22, 22, 16)        0         \n",
      "_________________________________________________________________\n",
      "conv2d_3 (Conv2D)            (None, 20, 20, 32)        4640      \n",
      "_________________________________________________________________\n",
      "batch_normalization_3 (Batch (None, 20, 20, 32)        128       \n",
      "_________________________________________________________________\n",
      "activation_3 (Activation)    (None, 20, 20, 32)        0         \n",
      "_________________________________________________________________\n",
      "conv2d_4 (Conv2D)            (None, 18, 18, 32)        9248      \n",
      "_________________________________________________________________\n",
      "batch_normalization_4 (Batch (None, 18, 18, 32)        128       \n",
      "_________________________________________________________________\n",
      "activation_4 (Activation)    (None, 18, 18, 32)        0         \n",
      "_________________________________________________________________\n",
      "global_max_pooling2d_1 (Glob (None, 32)                0         \n",
      "_________________________________________________________________\n",
      "dense_1 (Dense)              (None, 64)                2112      \n",
      "_________________________________________________________________\n",
      "dropout_1 (Dropout)          (None, 64)                0         \n",
      "_________________________________________________________________\n",
      "dense_2 (Dense)              (None, 32)                2080      \n",
      "_________________________________________________________________\n",
      "dropout_2 (Dropout)          (None, 32)                0         \n",
      "_________________________________________________________________\n",
      "dense_3 (Dense)              (None, 12)                396       \n",
      "=================================================================\n",
      "Total params: 21,628\n",
      "Trainable params: 21,436\n",
      "Non-trainable params: 192\n",
      "_________________________________________________________________\n"
     ]
    }
   ],
   "source": [
    "model = Sequential()\n",
    "model.add(Conv2D(16, (3, 3), input_shape=(48, 48, 3)))\n",
    "model.add(BatchNormalization(axis=3))\n",
    "model.add(Activation('relu'))\n",
    "model.add(Conv2D(16, (3, 3)))\n",
    "model.add(BatchNormalization(axis=3))\n",
    "model.add(Activation('relu'))\n",
    "model.add(MaxPooling2D((2, 2), strides=(2, 2)))\n",
    "model.add(Conv2D(32, (3, 3)))\n",
    "model.add(BatchNormalization(axis=3))\n",
    "model.add(Activation('relu'))\n",
    "model.add(Conv2D(32, (3, 3)))\n",
    "model.add(BatchNormalization(axis=3))\n",
    "model.add(Activation('relu'))\n",
    "model.add(GlobalMaxPooling2D())\n",
    "\n",
    "model.add(Dense(64, activation='relu'))\n",
    "model.add(Dropout(0.5))\n",
    "model.add(Dense(32, activation='relu'))\n",
    "model.add(Dropout(0.5))\n",
    "model.add(Dense(12, activation='softmax'))\n",
    "model.summary()\n",
    "model.compile(loss='categorical_crossentropy',\n",
    "              optimizer=Adam(lr=1e-4), metrics=['acc'])\n"
   ]
  },
  {
   "cell_type": "code",
   "execution_count": 5,
   "metadata": {},
   "outputs": [
    {
     "ename": "NameError",
     "evalue": "name 'model' is not defined",
     "traceback": [
      "\u001b[0;31m---------------------------------------------------------------------------\u001b[0m",
      "\u001b[0;31mNameError\u001b[0m                                 Traceback (most recent call last)",
      "\u001b[0;32m<ipython-input-5-57ce03b85f3f>\u001b[0m in \u001b[0;36m<module>\u001b[0;34m()\u001b[0m\n\u001b[1;32m     11\u001b[0m     verbose=1)\n\u001b[1;32m     12\u001b[0m \u001b[0;34m\u001b[0m\u001b[0m\n\u001b[0;32m---> 13\u001b[0;31m model.fit_generator(trainGenerated,\n\u001b[0m\u001b[1;32m     14\u001b[0m                     \u001b[0msteps_per_epoch\u001b[0m\u001b[0;34m=\u001b[0m\u001b[0mbatch_size\u001b[0m\u001b[0;34m,\u001b[0m\u001b[0;34m\u001b[0m\u001b[0m\n\u001b[1;32m     15\u001b[0m                     \u001b[0mepochs\u001b[0m\u001b[0;34m=\u001b[0m\u001b[0;36m200\u001b[0m\u001b[0;34m,\u001b[0m\u001b[0;34m\u001b[0m\u001b[0m\n",
      "\u001b[0;31mNameError\u001b[0m: name 'model' is not defined"
     ],
     "output_type": "error"
    }
   ],
   "source": [
    "from keras.callbacks import LearningRateScheduler, EarlyStopping\n",
    "from keras.callbacks import ModelCheckpoint\n",
    "from IPython.display import display \n",
    "from PIL import Image\n",
    "batch_size = 64\n",
    "lr = LearningRateScheduler(lambda x: 1e-3 * 0.9 ** x)\n",
    "earlystop = EarlyStopping(patience=20)\n",
    "modelsave = ModelCheckpoint(\n",
    "    filepath='../checkpoint/weights-{epoch:02d}-{val_loss:.2f}.h5', \n",
    "    save_best_only=True, \n",
    "    verbose=1)\n",
    "\n",
    "model.fit_generator(trainGenerated,\n",
    "                    steps_per_epoch=batch_size,\n",
    "                    epochs=200, \n",
    "                    validation_data=valGenerated,\n",
    "                    callbacks=[modelsave, tensorboard,earlystop, lr],\n",
    "                    workers = 4\n",
    "                    )\n",
    "model.save('CNNbenchmark.h5')"
   ]
  },
  {
   "cell_type": "code",
   "execution_count": 20,
   "metadata": {},
   "outputs": [],
   "source": [
    "import glob\n",
    "from PIL import Image, ImageOps\n",
    "\n",
    "z = glob.glob('../data/TEST1/test/*.png')\n",
    "test_imgs = []\n",
    "names = []\n",
    "for fn in z:\n",
    "    if fn[-3:] != 'png':\n",
    "        continue\n",
    "    names.append(fn.split('/')[-1])\n",
    "    new_img = Image.open(fn)\n",
    "    test_img = ImageOps.fit(new_img, (48, 48), Image.ANTIALIAS).convert('RGB')\n",
    "    test_imgs.append(test_img)\n",
    "model = load_model('../model/CNNbenchmark.h5')"
   ]
  },
  {
   "cell_type": "code",
   "execution_count": 21,
   "metadata": {},
   "outputs": [],
   "source": [
    "timgs = np.array([np.array(im) for im in test_imgs])\n",
    "testX = timgs.reshape(timgs.shape[0], 48, 48, 3) / 255"
   ]
  },
  {
   "cell_type": "code",
   "execution_count": 22,
   "metadata": {},
   "outputs": [],
   "source": [
    "yhat = model.predict(testX)"
   ]
  },
  {
   "cell_type": "code",
   "execution_count": 23,
   "metadata": {},
   "outputs": [],
   "source": [
    "preds = []\n",
    "for i in range(len(yhat)):\n",
    "    pos = np.argmax(yhat[i])\n",
    "    preds.append(CATEGORIES[pos])"
   ]
  },
  {
   "cell_type": "code",
   "execution_count": 24,
   "metadata": {},
   "outputs": [],
   "source": [
    "df = pd.DataFrame(data={'file': names, 'species': preds})"
   ]
  },
  {
   "cell_type": "code",
   "execution_count": 25,
   "metadata": {},
   "outputs": [
    {
     "data": {
      "text/html": [
       "<div>\n",
       "<style scoped>\n",
       "    .dataframe tbody tr th:only-of-type {\n",
       "        vertical-align: middle;\n",
       "    }\n",
       "\n",
       "    .dataframe tbody tr th {\n",
       "        vertical-align: top;\n",
       "    }\n",
       "\n",
       "    .dataframe thead th {\n",
       "        text-align: right;\n",
       "    }\n",
       "</style>\n",
       "<table border=\"1\" class=\"dataframe\">\n",
       "  <thead>\n",
       "    <tr style=\"text-align: right;\">\n",
       "      <th></th>\n",
       "      <th>file</th>\n",
       "      <th>species</th>\n",
       "    </tr>\n",
       "  </thead>\n",
       "  <tbody>\n",
       "    <tr>\n",
       "      <th>0</th>\n",
       "      <td>1b490196c.png</td>\n",
       "      <td>Small-flowered Cranesbill</td>\n",
       "    </tr>\n",
       "    <tr>\n",
       "      <th>1</th>\n",
       "      <td>85431c075.png</td>\n",
       "      <td>Loose Silky-bent</td>\n",
       "    </tr>\n",
       "    <tr>\n",
       "      <th>2</th>\n",
       "      <td>506347cfe.png</td>\n",
       "      <td>Scentless Mayweed</td>\n",
       "    </tr>\n",
       "    <tr>\n",
       "      <th>3</th>\n",
       "      <td>7f46a71db.png</td>\n",
       "      <td>Scentless Mayweed</td>\n",
       "    </tr>\n",
       "    <tr>\n",
       "      <th>4</th>\n",
       "      <td>668c1007c.png</td>\n",
       "      <td>Charlock</td>\n",
       "    </tr>\n",
       "  </tbody>\n",
       "</table>\n",
       "</div>"
      ],
      "text/plain": [
       "            file                    species\n",
       "0  1b490196c.png  Small-flowered Cranesbill\n",
       "1  85431c075.png           Loose Silky-bent\n",
       "2  506347cfe.png          Scentless Mayweed\n",
       "3  7f46a71db.png          Scentless Mayweed\n",
       "4  668c1007c.png                   Charlock"
      ]
     },
     "execution_count": 25,
     "metadata": {},
     "output_type": "execute_result"
    }
   ],
   "source": [
    "df.head(5)"
   ]
  },
  {
   "cell_type": "code",
   "execution_count": 26,
   "metadata": {},
   "outputs": [
    {
     "data": {
      "text/html": [
       "<div>\n",
       "<style scoped>\n",
       "    .dataframe tbody tr th:only-of-type {\n",
       "        vertical-align: middle;\n",
       "    }\n",
       "\n",
       "    .dataframe tbody tr th {\n",
       "        vertical-align: top;\n",
       "    }\n",
       "\n",
       "    .dataframe thead th {\n",
       "        text-align: right;\n",
       "    }\n",
       "</style>\n",
       "<table border=\"1\" class=\"dataframe\">\n",
       "  <thead>\n",
       "    <tr style=\"text-align: right;\">\n",
       "      <th></th>\n",
       "      <th>file</th>\n",
       "      <th>species</th>\n",
       "    </tr>\n",
       "  </thead>\n",
       "  <tbody>\n",
       "    <tr>\n",
       "      <th>790</th>\n",
       "      <td>78b1bf91a.png</td>\n",
       "      <td>Sugar beet</td>\n",
       "    </tr>\n",
       "    <tr>\n",
       "      <th>791</th>\n",
       "      <td>8cf2e3e6c.png</td>\n",
       "      <td>Common Chickweed</td>\n",
       "    </tr>\n",
       "    <tr>\n",
       "      <th>792</th>\n",
       "      <td>948cdb277.png</td>\n",
       "      <td>Cleavers</td>\n",
       "    </tr>\n",
       "    <tr>\n",
       "      <th>793</th>\n",
       "      <td>24c94a6ca.png</td>\n",
       "      <td>Charlock</td>\n",
       "    </tr>\n",
       "  </tbody>\n",
       "</table>\n",
       "</div>"
      ],
      "text/plain": [
       "              file           species\n",
       "790  78b1bf91a.png        Sugar beet\n",
       "791  8cf2e3e6c.png  Common Chickweed\n",
       "792  948cdb277.png          Cleavers\n",
       "793  24c94a6ca.png          Charlock"
      ]
     },
     "execution_count": 26,
     "metadata": {},
     "output_type": "execute_result"
    }
   ],
   "source": [
    "df.tail(4)"
   ]
  },
  {
   "cell_type": "code",
   "execution_count": 30,
   "metadata": {},
   "outputs": [],
   "source": [
    "df_sort = df.sort_values(by=['file'])\n",
    "df_sort.to_csv('../submission/benchmarResults.csv', index=False)"
   ]
  },
  {
   "cell_type": "markdown",
   "metadata": {},
   "source": [
    "# start parameter tuning"
   ]
  },
  {
   "cell_type": "markdown",
   "metadata": {},
   "source": [
    "change dimentation from 48 to 128"
   ]
  },
  {
   "cell_type": "code",
   "execution_count": null,
   "metadata": {},
   "outputs": [],
   "source": [
    "dim128 = 128\n",
    "model_dim128 = Sequential()\n",
    "model_dim128.add(Conv2D(16, (3, 3), input_shape=(dim128, dim128, 3)))\n",
    "model_dim128.add(BatchNormalization(axis=3))\n",
    "model_dim128.add(Activation('relu'))\n",
    "model_dim128.add(Conv2D(16, (3, 3)))\n",
    "model_dim128.add(BatchNormalization(axis=3))\n",
    "model_dim128.add(Activation('relu'))\n",
    "model_dim128.add(MaxPooling2D((2, 2), strides=(2, 2)))\n",
    "model_dim128.add(Conv2D(32, (3, 3)))\n",
    "model_dim128.add(BatchNormalization(axis=3))\n",
    "model_dim128.add(Activation('relu'))\n",
    "model_dim128.add(Conv2D(32, (3, 3)))\n",
    "model_dim128.add(BatchNormalization(axis=3))\n",
    "model_dim128.add(Activation('relu'))\n",
    "model_dim128.add(GlobalMaxPooling2D())\n",
    "\n",
    "model_dim128.add(Dense(64, activation='relu'))\n",
    "model_dim128.add(Dropout(0.5))\n",
    "model_dim128.add(Dense(32, activation='relu'))\n",
    "model_dim128.add(Dropout(0.5))\n",
    "model_dim128.add(Dense(12, activation='softmax'))\n",
    "model_dim128.summary()\n",
    "model_dim128.compile(loss='categorical_crossentropy',\n",
    "              optimizer=Adam(lr=1e-4), metrics=['acc'])"
   ]
  },
  {
   "cell_type": "markdown",
   "metadata": {},
   "source": [
    "1. change dimentation from 48 to 128\n",
    "2. increase number of filters"
   ]
  },
  {
   "cell_type": "code",
   "execution_count": null,
   "metadata": {},
   "outputs": [],
   "source": [
    "dim128 = 128\n",
    "model_dim128_deep = Sequential()\n",
    "model_dim128_deep.add(Conv2D(16, (7, 7), strides=(2,2),input_shape=(dim128, dim128, 3))) #changed\n",
    "model_dim128_deep.add(BatchNormalization(axis=3))\n",
    "model_dim128_deep.add(Activation('relu'))\n",
    "# model_dim128_deep.add(Conv2D(16, (3, 3)))\n",
    "# model_dim128_deep.add(BatchNormalization(axis=3))\n",
    "# model_dim128_deep.add(Activation('relu'))\n",
    "#model_dim128_deep.add(MaxPooling2D((2, 2), strides=(2, 2)))\n",
    "model_dim128_deep.add(Conv2D(32, (3, 3)))\n",
    "model_dim128_deep.add(BatchNormalization(axis=3))\n",
    "model_dim128_deep.add(Activation('relu'))\n",
    "model_dim128_deep.add(Conv2D(64, (3, 3)))\n",
    "model_dim128_deep.add(BatchNormalization(axis=3))\n",
    "model_dim128_deep.add(Activation('relu'))\n",
    "model_dim128_deep.add(MaxPooling2D((2, 2), strides=(2, 2)))\n",
    "model_dim128_deep.add(Conv2D(64, (3, 3)))\n",
    "model_dim128_deep.add(BatchNormalization(axis=3))\n",
    "model_dim128_deep.add(Activation('relu'))\n",
    "#model_dim128_deep.add(Conv2D(32, (3, 3)))\n",
    "#model_dim128_deep.add(BatchNormalization(axis=3))\n",
    "#model_dim128_deep.add(Activation('relu'))\n",
    "model_dim128_deep.add(GlobalMaxPooling2D())\n",
    "\n",
    "model_dim128_deep.add(Dense(64, activation='relu'))\n",
    "model_dim128_deep.add(Dropout(0.5))\n",
    "model_dim128_deep.add(Dense(32, activation='relu'))\n",
    "model_dim128_deep.add(Dropout(0.5))\n",
    "model_dim128_deep.add(Dense(12, activation='softmax'))\n",
    "model_dim128_deep.summary()\n",
    "model_dim128_deep.compile(loss='categorical_crossentropy',\n",
    "              optimizer=Adam(lr=1e-4), metrics=['acc'])\n",
    "\n"
   ]
  }
 ],
 "metadata": {
  "kernelspec": {
   "display_name": "Python 3",
   "language": "python",
   "name": "python3"
  },
  "language_info": {
   "codemirror_mode": {
    "name": "ipython",
    "version": 3
   },
   "file_extension": ".py",
   "mimetype": "text/x-python",
   "name": "python",
   "nbconvert_exporter": "python",
   "pygments_lexer": "ipython3",
   "version": "3.6.1"
  }
 },
 "nbformat": 4,
 "nbformat_minor": 1
}
