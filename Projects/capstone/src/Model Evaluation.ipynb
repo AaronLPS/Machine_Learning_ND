{
 "cells": [
  {
   "cell_type": "markdown",
   "metadata": {},
   "source": [
    "# Model Evaluation"
   ]
  },
  {
   "cell_type": "code",
   "execution_count": 75,
   "metadata": {
    "collapsed": true
   },
   "outputs": [],
   "source": [
    "import glob\n",
    "from PIL import Image, ImageOps\n",
    "from keras.models import Model, load_model\n",
    "import pandas as pd\n",
    "import numpy as np\n",
    "%matplotlib inline\n",
    "CATEGORIES = ['Black-grass', 'Charlock', 'Cleavers', 'Common Chickweed', 'Common wheat', 'Fat Hen', 'Loose Silky-bent',\n",
    "              'Maize', 'Scentless Mayweed', 'Shepherds Purse', 'Small-flowered Cranesbill', 'Sugar beet']\n",
    "\n",
    "NUM_CATEGORIES = len(CATEGORIES)\n"
   ]
  },
  {
   "cell_type": "code",
   "execution_count": 76,
   "metadata": {
    "collapsed": true
   },
   "outputs": [],
   "source": [
    "z = glob.glob('../data/ImagesFromTheWild/*/*.tiff')\n",
    "ori_label = []\n",
    "ori_imgs = []\n",
    "DIM = 128\n",
    "for fn in z:\n",
    "    if fn[-4:] != 'tiff':\n",
    "        continue\n",
    "    ori_label.append(fn.split('/')[-2])\n",
    "    new_img = Image.open(fn)\n",
    "    ori_imgs.append(ImageOps.fit(new_img, (DIM, DIM), Image.ANTIALIAS).convert('RGB'))"
   ]
  },
  {
   "cell_type": "code",
   "execution_count": 84,
   "metadata": {},
   "outputs": [
    {
     "data": {
      "text/plain": [
       "['Cleavers',\n",
       " 'Cleavers',\n",
       " 'Cleavers',\n",
       " 'Cleavers',\n",
       " 'Cleavers',\n",
       " 'Cleavers',\n",
       " 'Cleavers',\n",
       " 'Cleavers',\n",
       " 'Cleavers',\n",
       " 'Cleavers',\n",
       " 'Cleavers',\n",
       " 'Cleavers',\n",
       " 'Common Chickweed',\n",
       " 'Common Chickweed',\n",
       " 'Common Chickweed',\n",
       " 'Common Chickweed',\n",
       " 'Common Chickweed',\n",
       " 'Common Chickweed',\n",
       " 'Common Chickweed',\n",
       " 'Common Chickweed',\n",
       " 'Common Chickweed',\n",
       " 'Common Chickweed',\n",
       " 'Common Chickweed',\n",
       " 'Common Chickweed',\n",
       " 'Scentless Mayweed',\n",
       " 'Scentless Mayweed',\n",
       " 'Scentless Mayweed',\n",
       " 'Scentless Mayweed',\n",
       " 'Scentless Mayweed',\n",
       " 'Scentless Mayweed',\n",
       " 'Scentless Mayweed',\n",
       " 'Scentless Mayweed',\n",
       " 'Scentless Mayweed',\n",
       " 'Scentless Mayweed',\n",
       " 'Scentless Mayweed',\n",
       " 'Scentless Mayweed',\n",
       " 'Shepherds Purse',\n",
       " 'Shepherds Purse',\n",
       " 'Shepherds Purse',\n",
       " 'Shepherds Purse',\n",
       " 'Shepherds Purse',\n",
       " 'Shepherds Purse',\n",
       " 'Shepherds Purse',\n",
       " 'Shepherds Purse',\n",
       " 'Shepherds Purse',\n",
       " 'Shepherds Purse',\n",
       " 'Shepherds Purse',\n",
       " 'Shepherds Purse',\n",
       " 'Fat Hen',\n",
       " 'Fat Hen',\n",
       " 'Fat Hen',\n",
       " 'Fat Hen',\n",
       " 'Fat Hen',\n",
       " 'Fat Hen',\n",
       " 'Fat Hen',\n",
       " 'Fat Hen',\n",
       " 'Fat Hen',\n",
       " 'Fat Hen',\n",
       " 'Fat Hen',\n",
       " 'Fat Hen',\n",
       " 'Common wheat',\n",
       " 'Common wheat',\n",
       " 'Common wheat',\n",
       " 'Common wheat',\n",
       " 'Common wheat',\n",
       " 'Common wheat',\n",
       " 'Common wheat',\n",
       " 'Common wheat',\n",
       " 'Common wheat',\n",
       " 'Common wheat',\n",
       " 'Common wheat',\n",
       " 'Common wheat',\n",
       " 'Small-flowered Cranesbill',\n",
       " 'Small-flowered Cranesbill',\n",
       " 'Small-flowered Cranesbill',\n",
       " 'Small-flowered Cranesbill',\n",
       " 'Small-flowered Cranesbill',\n",
       " 'Small-flowered Cranesbill',\n",
       " 'Small-flowered Cranesbill',\n",
       " 'Small-flowered Cranesbill',\n",
       " 'Small-flowered Cranesbill',\n",
       " 'Small-flowered Cranesbill',\n",
       " 'Small-flowered Cranesbill',\n",
       " 'Small-flowered Cranesbill',\n",
       " 'Charlock',\n",
       " 'Charlock',\n",
       " 'Charlock',\n",
       " 'Charlock',\n",
       " 'Charlock',\n",
       " 'Charlock',\n",
       " 'Charlock',\n",
       " 'Charlock',\n",
       " 'Charlock',\n",
       " 'Charlock',\n",
       " 'Charlock',\n",
       " 'Charlock']"
      ]
     },
     "execution_count": 84,
     "metadata": {},
     "output_type": "execute_result"
    }
   ],
   "source": [
    "ori_label"
   ]
  },
  {
   "cell_type": "code",
   "execution_count": 78,
   "metadata": {},
   "outputs": [
    {
     "data": {
      "image/png": "[encoded data removed]",
      "text/plain": [
       "<PIL.Image.Image image mode=RGB size=128x128 at 0x182B49B198>"
      ]
     },
     "execution_count": 78,
     "metadata": {},
     "output_type": "execute_result"
    }
   ],
   "source": [
    "ori_imgs[1]"
   ]
  },
  {
   "cell_type": "code",
   "execution_count": 95,
   "metadata": {},
   "outputs": [
    {
     "name": "stdout",
     "output_type": "stream",
     "text": [
      "Charlock 12 images\n",
      "Cleavers 12 images\n",
      "Common Chickweed 12 images\n",
      "Common wheat 12 images\n",
      "Fat Hen 12 images\n",
      "Scentless Mayweed 12 images\n",
      "Shepherds Purse 12 images\n",
      "Small-flowered Cranesbill 12 images\n"
     ]
    }
   ],
   "source": [
    "import os\n",
    "data_dir = '../data/'\n",
    "eval_dir = os.path.join(data_dir, 'ImagesFromTheWild')\n",
    "\n",
    "CATEGORIES_EVAL = ['Charlock', 'Cleavers', 'Common Chickweed', 'Common wheat', 'Fat Hen', \n",
    "              'Scentless Mayweed', 'Shepherds Purse', 'Small-flowered Cranesbill']\n",
    "for category in CATEGORIES_EVAL:\n",
    "    print('{} {} images'.format(category, len(os.listdir(os.path.join(eval_dir, category)))))"
   ]
  },
  {
   "cell_type": "code",
   "execution_count": null,
   "metadata": {
    "collapsed": true
   },
   "outputs": [],
   "source": []
  }
 ],
 "metadata": {
  "kernelspec": {
   "display_name": "Python [conda env:dog-project]",
   "language": "python",
   "name": "conda-env-dog-project-py"
  },
  "language_info": {
   "codemirror_mode": {
    "name": "ipython",
    "version": 3
   },
   "file_extension": ".py",
   "mimetype": "text/x-python",
   "name": "python",
   "nbconvert_exporter": "python",
   "pygments_lexer": "ipython3",
   "version": "3.6.3"
  }
 },
 "nbformat": 4,
 "nbformat_minor": 2
}
